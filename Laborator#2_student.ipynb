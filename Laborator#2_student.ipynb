{
 "cells": [
  {
   "cell_type": "markdown",
   "id": "f97607f5",
   "metadata": {},
   "source": [
    "<div align=\"right\"> Calculatoare și Tehnologia Informației, anul I </div>\n",
    "<div align=\"right\"> Caclul Numeric </div>\n",
    "<div align=\"right\"> 2023--2024 </div>\n",
    "\n",
    "\n",
    "# <div align=\"center\"> Laborator #2: Introducere în librăria numpy </div>\n",
    "\n",
    "---\n",
    "\n"
   ]
  },
  {
   "cell_type": "markdown",
   "id": "a5896184",
   "metadata": {},
   "source": [
    "### Observația #1: Definirea vectorilor și a matricilor\n",
    "Numeroși algoritmi presupun rezolvarea de sisteme de ecuatii liniare. Librăria numpy este esențială pentru rezolvarea optimă a acestui tip de probleme. Pentru a apela în mod optim funcțiile acestei librării, matricele și vectorii vor fi definiți folosind funcția **np.array** in felul urmator:\n"
   ]
  },
  {
   "cell_type": "code",
   "execution_count": null,
   "id": "8af25448",
   "metadata": {},
   "outputs": [],
   "source": [
    "import numpy as np # Importăm librăria numpy\n",
    "\n",
    "# Matricile se definesc ca np.array-uri aplicate unei liste de liste\n",
    "A = np.array([                                                              \n",
    "    [1, 0],\n",
    "    [0, 1]\n",
    "])\n",
    "print(A)"
   ]
  },
  {
   "cell_type": "code",
   "execution_count": null,
   "id": "d76934eb",
   "metadata": {},
   "outputs": [],
   "source": [
    "# Vectorii ii vom defini by default vectori coloana, i.e. ca o matrice de mai multe linii si o singura coloana.\n",
    "\n",
    "# Task 1: Definiti voi vectorul coloana (1, 0, -3) si printati-l: \n"
   ]
  },
  {
   "cell_type": "code",
   "execution_count": null,
   "id": "0bdc2db2",
   "metadata": {},
   "outputs": [],
   "source": [
    "# Un alt lucru foarte important este tipul elementelor np.array-urilor. Daca am lasa matricea A si vectorul b definite ca mai \n",
    "# sus, Python le interpreteaza ca fiind matrice si vectori de elemente intregi! \n",
    "print(A.dtype) # Verificam cum salveaza calculatorul in memorie elementele lui A\n",
    "\n",
    "# Prin urmare, daca modific printr-o impartire un element din matricea A, calculatorul il va rotunji la un numar intreg.\n",
    "\n",
    "# Task 2: Impartiti voi elementul de pe pozitia (0, 0) a matricii A (A[0, 0]) la 2 si observati cum va arata matricea"
   ]
  },
  {
   "cell_type": "code",
   "execution_count": null,
   "id": "29ba0149",
   "metadata": {},
   "outputs": [],
   "source": [
    "# Solutia este sa definim de la inceput np.array-ul nostru ca fiind format din numere float\n",
    "A = np.array([\n",
    "    [1, 0],                                                                \n",
    "    [0, 1]\n",
    "]).astype(float)\n",
    "\n",
    "# Task 3: Reluati impartirea din celula precedenta si observati cum va arata matricea"
   ]
  },
  {
   "cell_type": "markdown",
   "id": "65bfb583",
   "metadata": {},
   "source": [
    "### Observația #2: Dimensiunea np.array-urilor\n",
    "\n",
    "Funcția np.shape(A) returneaza un tuple cu dimensiunile array-ului."
   ]
  },
  {
   "cell_type": "code",
   "execution_count": null,
   "id": "30b5c2d3",
   "metadata": {
    "scrolled": true
   },
   "outputs": [],
   "source": [
    "# Pentru un vector coloana b: np.shape(b)[0] -> numar linii i.e. lungimea vectorului, echivalent cu operatia len(b);\n",
    "\n",
    "# Task 4: Definiti un vector coloana de lungime 3 si comparati rezultatul instructiunilor np.shape(b) vs. np.shape(b)[0]"
   ]
  },
  {
   "cell_type": "code",
   "execution_count": null,
   "id": "64b6b8ef",
   "metadata": {},
   "outputs": [],
   "source": [
    "# Pentru o matrice: np.shape(A)[0] -> numar linii A; np.shape(A)[1] -> numar coloane A;\n",
    "\n",
    "# Task 5: Definiti o matrice de dimensiune 2 x 3 si determinati numarul de linii si coloane. \n",
    "#         Transpuneti matricea folosind operatia A.T si determinati numarul de linii si coloane ale acesteia"
   ]
  },
  {
   "cell_type": "markdown",
   "id": "19adb70a",
   "metadata": {},
   "source": [
    "### Observația #3: Apelarea elementelor np.array-urilor"
   ]
  },
  {
   "cell_type": "code",
   "execution_count": null,
   "id": "5800d6dc",
   "metadata": {
    "scrolled": true
   },
   "outputs": [],
   "source": [
    "# Pentru un vector b:\n",
    "b = np.arange(1, 10) # Functia np.arange genereaza toate numerele de la 1 (inclusiv) la 10 (exclusiv)\n",
    "print(b)\n",
    "\n",
    "print(b[2]) # elementul de pe pozitia 2\n",
    "print(b[-1]) # elementul de pe pozitia i numarand de la coada la cap, e.g. b[-1] ultimul element, b[-2] penultimul etc.\n",
    "print(b[3:6]) # toate elementele de la pozitia 3 (inclusiv) la 6 (exclusiv)\n",
    "print(b[:4]) # daca nu specificam parametrul de start, el este luat by default ca fiind primul element, 0;\n",
    "print(b[7:]) # daca nu specificam parametrul de stop, el este luat by default ca fiind ultimul element, np.shape(b)[0] - 1;\n",
    "\n",
    "# Task 6: Afisati:\n",
    "# Primul element din b\n",
    "# Antipenultimul element din b\n",
    "# Elemenetele de la 1 la 4 inclusiv din b\n",
    "# Primele 2 elemente din b"
   ]
  },
  {
   "cell_type": "code",
   "execution_count": null,
   "id": "b6ed0f86",
   "metadata": {
    "scrolled": true
   },
   "outputs": [],
   "source": [
    "# Pentru o matrice A:\n",
    "A = np.ones((2, 3)) # Functia np.ones genereaza o matrice de dimensiune (2, 3) cu toate elementele 1\n",
    "print(A)\n",
    "A = np.eye(2) # Functia np.eye genereaza matricea identitate de dimensiune 2\n",
    "print(A)\n",
    "A = np.array([\n",
    "    [1, 0, -1],                                                                \n",
    "    [0, 1, 2]\n",
    "]).astype(float)\n",
    "\n",
    "print(A[0, 1]) # elementul de pe linia i (0, 1, ... np.shape(A)[0] - 1) si coloana j (0, 1, ... np.shape(A)[1] - 1);\n",
    "print(A[1, :]) # linia 1\n",
    "print(A[:, 0]) # coloana 0\n",
    "print(A[1, :2]) # elemenetele de pe linia i, de la coloana 0 (inclusiv) pana la coloana j (exclusiv)"
   ]
  },
  {
   "cell_type": "markdown",
   "id": "5db5b022",
   "metadata": {},
   "source": [
    "### Observația #4: Inmultirea np.array-urilor"
   ]
  },
  {
   "cell_type": "code",
   "execution_count": null,
   "id": "bf0a1f66",
   "metadata": {},
   "outputs": [],
   "source": [
    "# Task 7: Definiti o matrice, A, si inmultiti-o cu 2 folosind inmultirea normala, '*'"
   ]
  },
  {
   "cell_type": "code",
   "execution_count": null,
   "id": "29d612bb",
   "metadata": {},
   "outputs": [],
   "source": [
    "# Putem de asemenea inmulti o matrice cu un vector daca dimensiunea vectorului este egala cu numarul de coloane a matricii,\n",
    "# folosind operatia '@'. \n",
    "\n",
    "# Task 8: Definiti un astfel de vector, b, si afisati rezultatul inmultirii lui A cu b"
   ]
  },
  {
   "cell_type": "code",
   "execution_count": null,
   "id": "3ccfde18",
   "metadata": {},
   "outputs": [],
   "source": [
    "# Putem inmulti si o matrice A de dimensiune (n,m) cu o matrice B de dimensiune (m,p), obtinand o matrice de dimensiune (n,p),\n",
    "# folosind aceeasi operatie '@'. \n",
    "\n",
    "# Task 9: Definiti o astfel de matrice, B, si afisati rezultatul inmultirii lui A cu B"
   ]
  },
  {
   "cell_type": "markdown",
   "id": "ea4318d1",
   "metadata": {},
   "source": [
    "### Exercițiul #1:\n",
    "\n",
    "Implementați o funcție care rezolvă folosind metoda substituției descendente un sistem superior triunghiular de ecuații liniare\n",
    "$ U \\cdot x = b $.\n",
    "\n",
    "Verificați, înainte de aplicarea metodei, că matricea U este inversabilă."
   ]
  },
  {
   "cell_type": "code",
   "execution_count": null,
   "id": "1d51dfbd",
   "metadata": {},
   "outputs": [],
   "source": [
    "def Subs_Desc(U, b):\n",
    "    # 1. Determinam n, dimensiunea lui U\n",
    "    n = np.shape(U)[0]\n",
    "\n",
    "    # 2. Verificam ca U este inversabila\n",
    "    for i in range(n):\n",
    "        if(U[i][i] == 0):\n",
    "            print(\"Matricea nu este inversabila\")\n",
    "            return 0    \n",
    "    \n",
    "    # 3. Initializam x ca un vector coloana de dimensiune (n, 1) plin de 0-uri\n",
    "    x = np.zeros((n, 1))\n",
    "    sum = np.zeros((1,n))\n",
    "    \n",
    "    # 4. Aplicam metoda substitutiei descendente\n",
    "    for k in range(n-1, -1, -1):\n",
    "        for j in range(k+1, n-1):\n",
    "            sum[k] += U[k][j] * x[j]\n",
    "        x[k] = (b[k] - sum[k]) / U[k][k]\n",
    "    \n",
    "    # 5. Returnam x, solutia sistemului U * x = b\n",
    "    return x\n",
    "\n",
    "# Definim un U si un b pe care sa testam metoda\n",
    "U = np.array([[1,1,2],\n",
    "              [0,2,3],\n",
    "              [0,0,5]])\n",
    "\n",
    "# Apelam metoda\n",
    "b = np.array([[1, 0, 0]])\n",
    "x = Subs_Desc(U, b)\n",
    "print(U @ x) # Verificam ca x rezolva U @ x = b"
   ]
  },
  {
   "cell_type": "markdown",
   "id": "3672323c",
   "metadata": {},
   "source": [
    "### Exercițiul #2:\n",
    "\n",
    "Implementați o funcție care transformă folosind metoda lui Gauss un sistem pătratic de ecuații liniare $A \\cdot x = b$\n",
    "într-un sistem superior triunghiular de ecuații liniare pe care îl rezolvă folosind metoda substituției descendente implementată la exercițiul anterior."
   ]
  },
  {
   "cell_type": "code",
   "execution_count": null,
   "id": "b4fb5bab",
   "metadata": {
    "scrolled": true
   },
   "outputs": [],
   "source": [
    "def Gauss(A, b):\n",
    "    # 1. Determinam n, dimensiunea lui A\n",
    "            \n",
    "    # 2a. Initializam U ca o copie a matricii A (pentru a nu modifica matricea initiala A)\n",
    "    U = np.copy(A)\n",
    "    \n",
    "    # 2b. Alternativ, puteti defini matricea extinsa folosind functia np.hstack\n",
    "    \n",
    "    # 3. Aplicam Metoda Gauss (fara pivotare)\n",
    "            \n",
    "    # 4. Returnam matricea si coloana termenilor liberi asociati sistemului superior triunghiular obtinut\n",
    "    return U, b\n",
    "        \n",
    "# Definim un A si un b pe care sa testam metoda\n",
    "\n",
    "# Transformam prin Gauss sistemul intr-un sistem echivalent superior triunghiular U * x = b\n",
    "\n",
    "# Rezolvam sistemul U * x = b cu metoda substitutiei descendente definite la exercitiul de mai sus si verificam ca x rezolva A * x = b"
   ]
  },
  {
   "cell_type": "markdown",
   "id": "e468c6d3",
   "metadata": {},
   "source": [
    "### Exercițiul #3:\n",
    "\n",
    "Implementați o funcție care rezolvă folosind metoda substituției ascendente un sistem inferior triunghiular de ecuații liniare\n",
    "$ L \\cdot x = b $.\n",
    "\n",
    "Verificați, înainte de aplicarea metodei, că matricea L este inversabilă."
   ]
  },
  {
   "cell_type": "code",
   "execution_count": null,
   "id": "dc9a189d-2eef-4151-972a-f24e3254c0f4",
   "metadata": {},
   "outputs": [],
   "source": []
  },
  {
   "cell_type": "markdown",
   "id": "1a2dfe11-619f-470f-8eee-065f6100c02f",
   "metadata": {},
   "source": [
    "### Exercițiul #4:\n",
    "\n",
    "Adaptati metoda de eliminare Gauss astfel incat sa transforme un sistem pătratic de ecuații liniare $ A \\cdot x = b $ într-un sistem inferior triunghiular de ecuații liniare pe care îl rezolvă folosind metoda substituției ascendente."
   ]
  },
  {
   "cell_type": "code",
   "execution_count": null,
   "id": "d6db67cd-be5c-4292-8274-d9deaadbb56e",
   "metadata": {},
   "outputs": [],
   "source": []
  },
  {
   "cell_type": "markdown",
   "id": "38b003bc-0166-43e0-b778-4f2737b1ad93",
   "metadata": {},
   "source": [
    "### Exercițiul #5:\n",
    "\n",
    "Determinati inversa unei matrici $A$ inversabile folosind metoda de eliminare Gauss. "
   ]
  },
  {
   "cell_type": "code",
   "execution_count": null,
   "id": "805e96bb-4dfa-4924-a4e6-8c932f61f4f0",
   "metadata": {},
   "outputs": [],
   "source": []
  }
 ],
 "metadata": {
  "kernelspec": {
   "display_name": "Python 3 (ipykernel)",
   "language": "python",
   "name": "python3"
  },
  "language_info": {
   "codemirror_mode": {
    "name": "ipython",
    "version": 3
   },
   "file_extension": ".py",
   "mimetype": "text/x-python",
   "name": "python",
   "nbconvert_exporter": "python",
   "pygments_lexer": "ipython3",
   "version": "3.12.7"
  }
 },
 "nbformat": 4,
 "nbformat_minor": 5
}
